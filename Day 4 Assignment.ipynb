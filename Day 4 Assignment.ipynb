{
 "cells": [
  {
   "cell_type": "markdown",
   "metadata": {},
   "source": [
    "# ASSIGNMENT NO. 4\n",
    "\n",
    "## Question No 1.\n",
    "Research on whether addition, subtraction, multiplication, division, floor division, and modulo operations\n",
    "be performed on complex numbers. Based on your study, implement a Python program to demonstrate\n",
    "these operations."
   ]
  },
  {
   "cell_type": "code",
   "execution_count": 28,
   "metadata": {},
   "outputs": [
    {
     "name": "stdout",
     "output_type": "stream",
     "text": [
      "Enter first complex no: 2+5j\n",
      "Enter second complex no: 4+3j\n",
      "1> ADDITION , 2> SUBTRACTION ,3> MULTIPLICATION ,4> DIVISION , 5>FLOOR DIVISION ,6>MODULO    Enter the operation you want to execute: 3\n",
      "Multiplication of the numbers is:  (-7+26j)\n"
     ]
    }
   ],
   "source": [
    "n1 = complex(input(\"Enter first complex no: \"))\n",
    "n2 = complex(input(\"Enter second complex no: \"))\n",
    "\n",
    "print(\"1> ADDITION , 2> SUBTRACTION ,3> MULTIPLICATION ,4> DIVISION , 5>FLOOR DIVISION ,6>MODULO\",end = \"    \")\n",
    "op = int(input(\"Enter the operation you want to execute: \"))\n",
    "\n",
    "if(op == 1):\n",
    "    res = n1+n2\n",
    "    print(\"Addition of the numbers is: \",res)\n",
    "elif(op == 2):\n",
    "    res = n1-n2\n",
    "    print(\"Subtraction of the numbers is: \",res)\n",
    "elif(op == 3):\n",
    "    res = n1*n2\n",
    "    print(\"Multiplication of the numbers is: \",res)\n",
    "elif(op == 4):\n",
    "    res = n1/n2\n",
    "    print(\"Division of the numbers is: \",res)\n",
    "elif(op == 5):\n",
    "    print(\"Floor division operation is not carried out in complex numbers!!!!\")\n",
    "elif(op == 6):\n",
    "    print(\"Modulo operation is not carried out in complex numbers!!!!\")\n",
    "else:\n",
    "    print(\"Please enter valiid operation......\")"
   ]
  },
  {
   "cell_type": "markdown",
   "metadata": {},
   "source": [
    "## Question No 2.\n",
    "Research on range() functions and its parameters. Create a markdown cell and write in your own words\n",
    "(no copy-paste from google please) what you understand about it. Implement a small program of your\n",
    "choice on the same.\n",
    "\n",
    "__Range() Function:__\n",
    "\n",
    "range() is a built in function of python. It is used when user want to perform action for specific number of times.range() function is used in looping conditions .It have 3 parameters (start,stop,step). start is starting point of the loop, stop is destination and step is increment or decrement number and all 3 needs to be in integer type. for ex.  range(1,6,1) this sequence starts from 1 ends at (n-1) i.e 5 with the step size of 1 (by default = 1). further program explains the use of range() function."
   ]
  },
  {
   "cell_type": "code",
   "execution_count": 8,
   "metadata": {},
   "outputs": [
    {
     "name": "stdout",
     "output_type": "stream",
     "text": [
      "Enter a last number of a sequence: 12\n",
      "Which numbers do you want to display\n",
      "1> EVEN        2>ODD \n",
      "1\n",
      "0 2 4 6 8 10 12 "
     ]
    }
   ],
   "source": [
    "#PROGRAM TO DISPLAY EVEN OR ODD NUMBERS \n",
    "\n",
    "n = int(input(\"Enter a last number of a sequence: \"))\n",
    "\n",
    "print(\"Which numbers do you want to display\")\n",
    "print(\"1> EVEN        2>ODD \")\n",
    "op = int(input())\n",
    "\n",
    "if op ==1:\n",
    "    for i in range(0,n+1,2):\n",
    "        print(i,end = \" \")\n",
    "elif op == 2:\n",
    "    for i in range(1,n+1,2):\n",
    "        print(i,end = \" \")\n",
    "else:\n",
    "    print(\"Invalid input!!!\")"
   ]
  },
  {
   "cell_type": "markdown",
   "metadata": {},
   "source": [
    "## Question No 3.\n",
    "Consider two numbers. Perform their subtraction and if the result of subtraction is greater than 25, print\n",
    "their multiplication result else print their division result."
   ]
  },
  {
   "cell_type": "code",
   "execution_count": 19,
   "metadata": {},
   "outputs": [
    {
     "name": "stdout",
     "output_type": "stream",
     "text": [
      "Enter 1st no: 50\n",
      "Enter 2nd no: 25\n",
      "Subtraction of numbers is:  25.0\n",
      "Division of numbers is:  2.0\n"
     ]
    }
   ],
   "source": [
    "n1 = float(input(\"Enter 1st no: \"))\n",
    "n2 = float(input(\"Enter 2nd no: \"))\n",
    "\n",
    "sub = n1-n2\n",
    "print(\"Subtraction of numbers is: \",sub)\n",
    "\n",
    "if sub>25:\n",
    "    res = n1*n2\n",
    "    print(\"Multiplication of numbers is: \",res)\n",
    "else:\n",
    "    res  = n1/n2\n",
    "    print(\"Division of numbers is: \",res)\n",
    "    "
   ]
  },
  {
   "cell_type": "markdown",
   "metadata": {},
   "source": [
    "## Question No 4.\n",
    "Consider a list of 10 elements of integer values. If the number in the list is divisible by 2, print the result as\n",
    "\"square of that number minus 2\"."
   ]
  },
  {
   "cell_type": "code",
   "execution_count": 22,
   "metadata": {},
   "outputs": [
    {
     "name": "stdout",
     "output_type": "stream",
     "text": [
      "2\n",
      "Square of that number minus two\n",
      "14\n",
      "Square of that number minus two\n",
      "34\n",
      "Square of that number minus two\n",
      "62\n",
      "Square of that number minus two\n",
      "98\n",
      "Square of that number minus two\n"
     ]
    }
   ],
   "source": [
    "li = [1,2,3,4,5,6,7,8,9,10]\n",
    "for i in li:\n",
    "    if(i%2 ==  0 ):\n",
    "        print((i**2)-2)\n",
    "        print(\"Square of that number minus two\")\n",
    "    "
   ]
  },
  {
   "cell_type": "markdown",
   "metadata": {},
   "source": [
    "## Question No 5.\n",
    "Consider a list of 10 elements. Print all the elements in the list which are greater than 7 when that number\n",
    "is divided 2."
   ]
  },
  {
   "cell_type": "code",
   "execution_count": 27,
   "metadata": {},
   "outputs": [
    {
     "name": "stdout",
     "output_type": "stream",
     "text": [
      "55\n",
      "25\n",
      "96\n",
      "68\n",
      "54\n",
      "78\n",
      "56\n"
     ]
    }
   ],
   "source": [
    "li = [55,25,2,96,5,68,7,54,78,56]\n",
    "\n",
    "for i in li:\n",
    "    if (i/2 > 7 ):\n",
    "        print(i)\n"
   ]
  }
 ],
 "metadata": {
  "kernelspec": {
   "display_name": "Python 3",
   "language": "python",
   "name": "python3"
  },
  "language_info": {
   "codemirror_mode": {
    "name": "ipython",
    "version": 3
   },
   "file_extension": ".py",
   "mimetype": "text/x-python",
   "name": "python",
   "nbconvert_exporter": "python",
   "pygments_lexer": "ipython3",
   "version": "3.7.6"
  }
 },
 "nbformat": 4,
 "nbformat_minor": 4
}
