{
 "cells": [
  {
   "cell_type": "markdown",
   "metadata": {},
   "source": [
    "# DAY 3 ASSIGNMENT\n",
    "\n",
    "__Question no 1.__"
   ]
  },
  {
   "cell_type": "code",
   "execution_count": 6,
   "metadata": {},
   "outputs": [
    {
     "name": "stdout",
     "output_type": "stream",
     "text": [
      "Complex subtraction of two complex no is:  (3+2j)\n"
     ]
    }
   ],
   "source": [
    "\n",
    "a = 7 +4j\n",
    "b = 4+2j\n",
    "c = a-b\n",
    "\n",
    "print(\"Complex subtraction of two complex no is: \",c)"
   ]
  },
  {
   "cell_type": "markdown",
   "metadata": {},
   "source": [
    "__Question no 2.__"
   ]
  },
  {
   "cell_type": "code",
   "execution_count": 18,
   "metadata": {},
   "outputs": [
    {
     "name": "stdout",
     "output_type": "stream",
     "text": [
      "Enter a number: 625.1\n",
      "Fourth root of the given number is:  5.00019998800112\n"
     ]
    }
   ],
   "source": [
    "n1 =float(input(\"Enter a number: \"))\n",
    "ans = n1**0.25\n",
    "\n",
    "print(\"Fourth root of the given number is: \",ans)"
   ]
  },
  {
   "cell_type": "markdown",
   "metadata": {},
   "source": [
    "__Question no 3.__"
   ]
  },
  {
   "cell_type": "code",
   "execution_count": 19,
   "metadata": {},
   "outputs": [
    {
     "name": "stdout",
     "output_type": "stream",
     "text": [
      "Enter first number: 11\n",
      "Enter second number: 22.05\n",
      "Applying swapping operation.....\n",
      "First number:  22.05\n",
      "Second number:  11.0\n"
     ]
    }
   ],
   "source": [
    "n1 = float(input(\"Enter first number: \"))\n",
    "n2 = float(input(\"Enter second number: \"))\n",
    "\n",
    "temp = n2\n",
    "n2 = n1\n",
    "n1 = temp\n",
    "\n",
    "print(\"Applying swapping operation.....\")\n",
    "print(\"First number: \",n1)\n",
    "print(\"Second number: \",n2)\n"
   ]
  },
  {
   "cell_type": "markdown",
   "metadata": {},
   "source": [
    "__Question no 4.__"
   ]
  },
  {
   "cell_type": "code",
   "execution_count": 20,
   "metadata": {},
   "outputs": [
    {
     "name": "stdout",
     "output_type": "stream",
     "text": [
      "Enter first number: 11.22\n",
      "Enter second number: 22.44\n",
      "Applying swapping operation.....\n",
      "First number:  22.44\n",
      "Second number:  11.22\n"
     ]
    }
   ],
   "source": [
    "n1 = float(input(\"Enter first number: \"))\n",
    "n2 = float(input(\"Enter second number: \"))\n",
    "\n",
    "n1,n2 = n2,n1\n",
    "\n",
    "print(\"Applying swapping operation.....\")\n",
    "print(\"First number: \",n1)\n",
    "print(\"Second number: \",n2)"
   ]
  },
  {
   "cell_type": "code",
   "execution_count": 24,
   "metadata": {},
   "outputs": [
    {
     "name": "stdout",
     "output_type": "stream",
     "text": [
      "Enter temperature in Fahrenheit: 32\n",
      "Temperature in celcius is:  0.0\n",
      "Temperature in kelvin is :  273.15\n"
     ]
    }
   ],
   "source": [
    "ftemp =  float(input(\"Enter temperature in Fahrenheit: \"))\n",
    "\n",
    "ctemp  = (ftemp-32)*5/9\n",
    "print(\"Temperature in celcius is: \",ctemp)\n",
    "\n",
    "ktemp =(ftemp-32)*5/9+273.15\n",
    "print(\"Temperature in kelvin is : \",ktemp)"
   ]
  },
  {
   "cell_type": "code",
   "execution_count": 27,
   "metadata": {},
   "outputs": [
    {
     "name": "stdout",
     "output_type": "stream",
     "text": [
      "Data type is:  <class 'str'>\n",
      "Data type is:  <class 'int'>\n",
      "Data type is:  <class 'float'>\n",
      "Data type is:  <class 'complex'>\n",
      "Data type is:  <class 'bool'>\n",
      "Data type is:  <class 'tuple'>\n",
      "Data type is:  <class 'list'>\n",
      "Data type is:  <class 'dict'>\n"
     ]
    }
   ],
   "source": [
    "a = \"Rohit\"\n",
    "print(\"Data type is: \",type(a))\n",
    "b=77\n",
    "print(\"Data type is: \",type(b))\n",
    "c = 7.0125\n",
    "print(\"Data type is: \",type(c))\n",
    "d = 2+3j\n",
    "print(\"Data type is: \",type(d))\n",
    "e= True\n",
    "print(\"Data type is: \",type(e))\n",
    "f = ('1','d','Rohit')\n",
    "print(\"Data type is: \",type(f))\n",
    "g = ['1','d','Rohit']\n",
    "print(\"Data type is: \",type(g))\n",
    "h = {'1':'Rohit','2':'XYZ'}\n",
    "print(\"Data type is: \",type(h))"
   ]
  },
  {
   "cell_type": "code",
   "execution_count": null,
   "metadata": {},
   "outputs": [],
   "source": []
  }
 ],
 "metadata": {
  "kernelspec": {
   "display_name": "Python 3",
   "language": "python",
   "name": "python3"
  },
  "language_info": {
   "codemirror_mode": {
    "name": "ipython",
    "version": 3
   },
   "file_extension": ".py",
   "mimetype": "text/x-python",
   "name": "python",
   "nbconvert_exporter": "python",
   "pygments_lexer": "ipython3",
   "version": "3.7.6"
  }
 },
 "nbformat": 4,
 "nbformat_minor": 4
}
