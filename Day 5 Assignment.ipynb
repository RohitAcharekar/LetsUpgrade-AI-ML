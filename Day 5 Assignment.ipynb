{
 "cells": [
  {
   "cell_type": "markdown",
   "metadata": {},
   "source": [
    "## ASSIGNMENT NO. 5\n",
    "__Question no. 1__\n",
    "\n",
    "Write a Python program to find the first 20 non-even prime natural numbers.\n"
   ]
  },
  {
   "cell_type": "code",
   "execution_count": 9,
   "metadata": {},
   "outputs": [
    {
     "name": "stdout",
     "output_type": "stream",
     "text": [
      "[3, 5, 7, 11, 13, 17, 19, 23, 29, 31, 37, 41, 43, 47, 53, 59, 61, 67, 71, 73]\n"
     ]
    }
   ],
   "source": [
    "li = []\n",
    "for i in range(3,75,1):\n",
    "    for j in range(2,i):\n",
    "        if (i%j==0): \n",
    "            break\n",
    "    else:\n",
    "        li.append(i)\n",
    "print(li)\n",
    "\n",
    "        "
   ]
  },
  {
   "cell_type": "markdown",
   "metadata": {},
   "source": [
    "__Question no.2__\n",
    "\n",
    "Write a Python program to implement 15 functions of string."
   ]
  },
  {
   "cell_type": "code",
   "execution_count": 3,
   "metadata": {},
   "outputs": [
    {
     "name": "stdout",
     "output_type": "stream",
     "text": [
      "ROHIT ACHAREKAR\n",
      "False\n",
      "Rohit acharekar\n",
      "rohit acharekar\n",
      "True\n",
      "15\n",
      "3\n",
      "*****rohit acharekar\n",
      "rohit acharekar*****\n",
      "6\n",
      "2\n",
      "suresh acharekar\n",
      "['rohit ', 'ch', 'rek', 'r']\n",
      "('rohit ', 'a', 'charekar')\n",
      "False\n",
      "[' ', 'a', 'a', 'a', 'c', 'e', 'h', 'h', 'i', 'k', 'o', 'r', 'r', 'r', 't']\n"
     ]
    }
   ],
   "source": [
    "name = \"rohit acharekar\"\n",
    "\n",
    "print(name.upper())\n",
    "print(name.isupper())\n",
    "print(name.capitalize())\n",
    "print(name.lower())\n",
    "print(name.islower())\n",
    "print(len(name))\n",
    "print(name.count('a'))\n",
    "print(name.rjust(20,'*'))\n",
    "print(name.ljust(20,'*'))\n",
    "print(name.find('a'))\n",
    "print(name.index('h'))\n",
    "print(name.replace('rohit','suresh'))\n",
    "print(name.split('a'))\n",
    "print(name.partition('a'))\n",
    "print(name.isidentifier())\n",
    "print(sorted(name))"
   ]
  },
  {
   "cell_type": "markdown",
   "metadata": {},
   "source": [
    "__Question no.3__\n",
    "\n",
    "Write a Python program to check if the given string is a Palindrome or Anagram or None of them. Display\n",
    "the message accordingly to the user."
   ]
  },
  {
   "cell_type": "code",
   "execution_count": 4,
   "metadata": {},
   "outputs": [
    {
     "name": "stdout",
     "output_type": "stream",
     "text": [
      "Type your string for checking palindrome: malayalam\n",
      "string is palindrome\n",
      "Enter 2 strings for checking whether they are anagrams or not\n",
      "silent\n",
      "listen\n",
      "Strings are anagrams\n"
     ]
    }
   ],
   "source": [
    "s1 = input(\"Type your string for checking palindrome: \")\n",
    "re =''\n",
    "\n",
    "for i in s1:\n",
    "    re = i+re\n",
    "if (s1 == re):\n",
    "    print(\"string is palindrome\")\n",
    "else:\n",
    "    print(\"string is non-palindrome\")\n",
    "\n",
    "print(\"Enter 2 strings for checking whether they are anagrams or not\")\n",
    "s2 = input()\n",
    "s3 = input()\n",
    "if(sorted(s2) == sorted(s3)):\n",
    "    print(\"Strings are anagrams\")\n",
    "else:\n",
    "    print(\"Strings are non-anagrams\")"
   ]
  },
  {
   "cell_type": "markdown",
   "metadata": {},
   "source": [
    "__Question no. 4__\n",
    "\n",
    "Write a Python's user-defined function that removes all the additional characters from the string and\n",
    "convert it finally to lower case using built-in lower(). eg: If the string is \"Dr. Darshan Ingle @AIML Trainer\",\n",
    "then the output be \"drdarshaningleaimltrainer\"."
   ]
  },
  {
   "cell_type": "code",
   "execution_count": 10,
   "metadata": {},
   "outputs": [
    {
     "name": "stdout",
     "output_type": "stream",
     "text": [
      "Enter the string: Acharekarrohit913@gmail.       com\n",
      "acharekarrohitgmailcom\n"
     ]
    }
   ],
   "source": [
    "var = input(\"Enter the string: \")\n",
    "temp = ''\n",
    "for i in var:\n",
    "    if (i>='a' and i<='z' or i>='A' and i <='Z'):\n",
    "        temp = temp + i\n",
    "        \n",
    "print(temp.lower())\n",
    "        \n"
   ]
  }
 ],
 "metadata": {
  "kernelspec": {
   "display_name": "Python 3",
   "language": "python",
   "name": "python3"
  },
  "language_info": {
   "codemirror_mode": {
    "name": "ipython",
    "version": 3
   },
   "file_extension": ".py",
   "mimetype": "text/x-python",
   "name": "python",
   "nbconvert_exporter": "python",
   "pygments_lexer": "ipython3",
   "version": "3.7.6"
  }
 },
 "nbformat": 4,
 "nbformat_minor": 4
}
