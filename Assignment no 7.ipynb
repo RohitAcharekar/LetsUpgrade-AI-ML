{
 "cells": [
  {
   "cell_type": "markdown",
   "metadata": {},
   "source": [
    "# ASSIGNMENT NO: 7\n",
    "\n",
    "__Question no: 1__\n",
    "\n",
    "Write a program to copy the contents of one file to another using a for loop. (Don’t use built-in copy\n",
    "function)"
   ]
  },
  {
   "cell_type": "code",
   "execution_count": 50,
   "metadata": {},
   "outputs": [
    {
     "name": "stdout",
     "output_type": "stream",
     "text": [
      "Content of 1st file is copied in another file \n"
     ]
    }
   ],
   "source": [
    "# f1 = open(\"file1.txt\",'w')\n",
    "# f1.write(\"Hello user.... \\n\")\n",
    "# f1.write(\"How are you? \\n\")\n",
    "# f1.write(\"I wish you and your family is doing good in this pandemic......\\n\")\n",
    "# f1.close()\n",
    "\n",
    "f1 = open(\"file1.txt\",'r')\n",
    "text = f1.read()\n",
    "f1.close()\n",
    "\n",
    "f2 = open(\"file2.txt\",'a')\n",
    "f2.write(text)\n",
    "f2.close()\n",
    "\n",
    "print(\"Content of 1st file is copied in another file \")"
   ]
  },
  {
   "cell_type": "markdown",
   "metadata": {},
   "source": [
    "__Question no: 2__\n",
    "\n",
    "Write a Python program to find maximum and minimum values in the dictionary. Do not use built-in min\n",
    "and max functions."
   ]
  },
  {
   "cell_type": "code",
   "execution_count": 14,
   "metadata": {},
   "outputs": [
    {
     "name": "stdout",
     "output_type": "stream",
     "text": [
      "[0, 22, 355, 44, 50]\n",
      "Maximum value in the dictionary is:  355\n",
      "Minimum value in the dictionary is:  0\n"
     ]
    }
   ],
   "source": [
    "def max1(i):\n",
    "    max1 =0\n",
    "    \n",
    "\n",
    "dict1 = {'a' : 0, 'b' : 22, 'c' : 355, 'd' : 44,'e' : 50}\n",
    "li = []\n",
    "big = 0\n",
    "small = 0\n",
    "\n",
    "for i in dict1.values():\n",
    "    li.append(i)\n",
    "print(li)\n",
    "length = len(li)\n",
    "\n",
    "for j in range(0,int(length)):\n",
    "    if li[j] >big:\n",
    "        big = li[j]\n",
    "print(\"Maximum value in the dictionary is: \",big)\n",
    "    \n",
    "for k in range(0,int(length)):\n",
    "    if li[k] < small :\n",
    "        small = li[k]\n",
    "print(\"Minimum value in the dictionary is: \",small)\n",
    "   \n",
    "   "
   ]
  }
 ],
 "metadata": {
  "kernelspec": {
   "display_name": "Python 3",
   "language": "python",
   "name": "python3"
  },
  "language_info": {
   "codemirror_mode": {
    "name": "ipython",
    "version": 3
   },
   "file_extension": ".py",
   "mimetype": "text/x-python",
   "name": "python",
   "nbconvert_exporter": "python",
   "pygments_lexer": "ipython3",
   "version": "3.7.6"
  }
 },
 "nbformat": 4,
 "nbformat_minor": 4
}
