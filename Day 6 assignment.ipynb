{
 "cells": [
  {
   "cell_type": "markdown",
   "metadata": {},
   "source": [
    "# ASSIGNMENT NO 6\n",
    "\n",
    "__Qusetion no: 1__\n",
    "\n",
    "Assuming that we have some email addresses in the \"username@companyname.com\" format, please\n",
    "write a program to print the company name of a given email address. Both user names and company\n",
    "names are composed of letters only.\n",
    "Input Format:\n",
    "The first line of the input contains an email address.\n",
    "Output Format:\n",
    "Print the company name in a single line.\n",
    "Example;\n",
    "Input:\n",
    "john@google.com\n",
    "Output:\n",
    "google."
   ]
  },
  {
   "cell_type": "code",
   "execution_count": 34,
   "metadata": {},
   "outputs": [
    {
     "name": "stdout",
     "output_type": "stream",
     "text": [
      "Enter your user_id: rohit@google.com\n",
      "The company name is:  google\n"
     ]
    }
   ],
   "source": [
    "user_id = input(\"Enter your user_id: \")\n",
    "x=user_id.find('@')\n",
    "y =user_id.find('.')\n",
    "print(\"The company name is: \",user_id[x+1:y])"
   ]
  },
  {
   "cell_type": "markdown",
   "metadata": {},
   "source": [
    "__Question no: 2__\n",
    "\n",
    "Write a program that accepts a comma-separated sequence of words as input and prints the words in a\n",
    "comma-separated sequence after sorting them alphabetically.\n",
    "Input Format:\n",
    "The first line of input contains words separated by the comma.\n",
    "Output Format:\n",
    "Print the sorted words separated by the comma.\n",
    "Example:\n",
    "Input:\n",
    "without,hello,bag,world\n",
    "Output:\n",
    "bag,hello,without,world"
   ]
  },
  {
   "cell_type": "code",
   "execution_count": 32,
   "metadata": {},
   "outputs": [
    {
     "name": "stdout",
     "output_type": "stream",
     "text": [
      "Enter comma seperated strings: without,hello,bag,world\n",
      "String after sorting:  ['bag', 'hello', 'without', 'world']\n"
     ]
    }
   ],
   "source": [
    "var = input(\"Enter comma seperated strings: \")\n",
    "\n",
    "var = var.split(',')\n",
    "var.sort()\n",
    "\n",
    "print(\"String after sorting: \",var)"
   ]
  },
  {
   "cell_type": "markdown",
   "metadata": {},
   "source": [
    "__Question no: 3__\n",
    "\n",
    "Create your own Jupyter Notebook for Sets. Reference link:\n",
    "https://www.w3schools.com/python/python_sets.asp"
   ]
  },
  {
   "cell_type": "code",
   "execution_count": 60,
   "metadata": {},
   "outputs": [
    {
     "name": "stdout",
     "output_type": "stream",
     "text": [
      "3\n",
      "{'ramesh', 'mukesh', 'ravi', 'suresh'}\n",
      "{1, 2, 3, 'ravi', 'ramesh', 'mukesh', 'suresh'}\n",
      "{2, 3, 'ravi', 'ramesh', 'mukesh', 'suresh'}\n",
      "{1, 2, 'c', 3, 'b', 'a'}\n",
      "{1, 2, 3, 'b', 'a'}\n",
      "{1, 2, 'b', 'a'}\n"
     ]
    }
   ],
   "source": [
    "s1 = {'suresh','ramesh','mukesh'}\n",
    "s2  = {1,2,3}\n",
    "\n",
    "print(len(s1)) #3\n",
    "\n",
    "s1.add('ravi')#{'ramesh', 'mukesh', 'ravi', 'suresh'}\n",
    "print(s1)\n",
    "\n",
    "s1.update(s2)#{1, 2, 3, 'ravi', 'ramesh', 'mukesh', 'suresh'}\n",
    "print(s1)\n",
    "\n",
    "s1.pop()\n",
    "print(s1)\n",
    "\n",
    "del(s1)\n",
    "#print(s1)#name 's1' is not defined\n",
    "\n",
    "s3= {\"a\",\"b\",\"c\"}\n",
    "s4 = {1,2,3}\n",
    "\n",
    "s5 = s3.union(s4)\n",
    "print(s5)\n",
    "\n",
    "s5.remove('c')\n",
    "print(s5)\n",
    "\n",
    "s5.discard(3)\n",
    "print(s5)\n",
    "\n",
    "clear(s5)\n",
    "print(s5)"
   ]
  },
  {
   "cell_type": "markdown",
   "metadata": {},
   "source": [
    "__Question no: 4__\n",
    "\n",
    "Given a list of n-1 numbers ranging from 1 to n, your task is to find the missing number. There are no\n",
    "duplicates.\n",
    "Input Format:\n",
    "The first line contains n-1 numbers with each number separated by a space.\n",
    "Output Format:\n",
    "Print the missing number\n",
    "Example:\n",
    "Input:\n",
    "1 2 4 6 3 7 8\n",
    "Output:\n",
    "5\n",
    "Explanation:\n",
    "In the above list of numbers 5 is missing and hence 5 is the input"
   ]
  },
  {
   "cell_type": "code",
   "execution_count": 38,
   "metadata": {},
   "outputs": [
    {
     "name": "stdout",
     "output_type": "stream",
     "text": [
      "The given list is:  [1, 2, 3, 4, 5, 6, 8, 9, 10]\n",
      "The missing number is:  7\n"
     ]
    }
   ],
   "source": [
    "li = [1,2,3,4,5,6,8,9,10]\n",
    "print(\"The given list is: \",li)\n",
    "n = len(li)\n",
    "total = (n+1)*(n+2)/2\n",
    "s = sum(li)\n",
    "print(\"The missing number is: \",int(total- s))"
   ]
  },
  {
   "cell_type": "markdown",
   "metadata": {},
   "source": [
    "__Question no: 5__\n",
    "\n",
    "With a given list L, write a program to print this list L after removing all duplicate values with original order\n",
    "reserved.\n",
    "Example:\n",
    "If the input list is\n",
    "12 24 35 24 88 120 155 88 120 155\n",
    "Then the output should be\n",
    "12 24 35 88 120 155\n",
    "Explanation:\n",
    "Third, the seventh and ninth element of the list L has been removed because it was already present.\n",
    "Input Format:\n",
    "In one line take the elements of the list L with each element separated by a space.\n",
    "Output Format:\n",
    "Print the elements of the modified list in one line with each element separated by a space.\n",
    "Example:\n",
    "Input:\n",
    "12 24 35 24\n",
    "Output:\n",
    "12 24 35"
   ]
  },
  {
   "cell_type": "code",
   "execution_count": 39,
   "metadata": {},
   "outputs": [
    {
     "name": "stdout",
     "output_type": "stream",
     "text": [
      "Enter numbers: \n",
      "10\n",
      "20\n",
      "10\n",
      "20\n",
      "30\n",
      "50\n",
      "90\n",
      "80\n",
      "50\n",
      "60\n",
      "['10', '20', '10', '20', '30', '50', '90', '80', '50', '60']\n",
      "['10', '20', '30', '50', '90', '80', '60']\n"
     ]
    }
   ],
   "source": [
    "li = []\n",
    "main = []\n",
    "print('Enter numbers: ')\n",
    "for i in range(1,11):\n",
    "    n = input()\n",
    "    li.append(n)\n",
    "print(li)\n",
    "\n",
    "for i in li:\n",
    "    if i not in main:\n",
    "        main.append(i)\n",
    "print(main)\n",
    "\n"
   ]
  }
 ],
 "metadata": {
  "kernelspec": {
   "display_name": "Python 3",
   "language": "python",
   "name": "python3"
  },
  "language_info": {
   "codemirror_mode": {
    "name": "ipython",
    "version": 3
   },
   "file_extension": ".py",
   "mimetype": "text/x-python",
   "name": "python",
   "nbconvert_exporter": "python",
   "pygments_lexer": "ipython3",
   "version": "3.7.6"
  }
 },
 "nbformat": 4,
 "nbformat_minor": 4
}
