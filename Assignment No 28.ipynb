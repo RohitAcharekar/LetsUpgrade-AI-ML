{
 "cells": [
  {
   "cell_type": "code",
   "execution_count": 4,
   "metadata": {},
   "outputs": [],
   "source": [
    "from sklearn.metrics import confusion_matrix\n",
    "from sklearn.metrics import classification_report"
   ]
  },
  {
   "cell_type": "code",
   "execution_count": 9,
   "metadata": {},
   "outputs": [
    {
     "name": "stdout",
     "output_type": "stream",
     "text": [
      "Confusion matrix : \n",
      " [[2 3]\n",
      " [2 1]]\n",
      "Outcome values : \n",
      " 2 3 2 1\n",
      "Classification report : \n",
      "               precision    recall  f1-score   support\n",
      "\n",
      "           1       0.50      0.40      0.44         5\n",
      "           0       0.25      0.33      0.29         3\n",
      "\n",
      "    accuracy                           0.38         8\n",
      "   macro avg       0.38      0.37      0.37         8\n",
      "weighted avg       0.41      0.38      0.38         8\n",
      "\n"
     ]
    }
   ],
   "source": [
    "act_arr=[1,1,1,0,0,0,1,1]\n",
    "pred_arr=[0,1,0,1,0,1,1,0]\n",
    "matrix=confusion_matrix(act_arr,pred_arr,labels=[1,0])\n",
    "print(\"Confusion matrix : \\n\",matrix)\n",
    "tp,fn,fp,tn=confusion_matrix(act_arr,pred_arr,labels=[1,0]).reshape(-1)\n",
    "print('Outcome values : \\n',tp,fn,fp,tn)\n",
    "matrix=classification_report(act_arr,pred_arr,labels=[1,0])\n",
    "print('Classification report : \\n',matrix)"
   ]
  },
  {
   "cell_type": "code",
   "execution_count": 10,
   "metadata": {},
   "outputs": [
    {
     "name": "stdout",
     "output_type": "stream",
     "text": [
      "59.76190476190476\n",
      "Precision:0.70\n",
      "recall: 0.84\n",
      "f1: 0.76\n"
     ]
    }
   ],
   "source": [
    "TP=42\n",
    "FN=8\n",
    "FP=18\n",
    "TN=32\n",
    "Accuracy=(TP+TN)/TP+FN+FP+TN\n",
    "print(Accuracy)\n",
    "Precision=TP/(TP+FP)\n",
    "print(f\"Precision:{Precision:4.2f}\")\n",
    "recall=TP/(TP+FN)\n",
    "print(f\"recall: {recall:4.2f}\")\n",
    "f1=2*Precision*recall/(Precision+recall)\n",
    "print(f\"f1: {f1:4.2f}\")"
   ]
  },
  {
   "cell_type": "code",
   "execution_count": null,
   "metadata": {},
   "outputs": [],
   "source": []
  }
 ],
 "metadata": {
  "kernelspec": {
   "display_name": "Python 3",
   "language": "python",
   "name": "python3"
  },
  "language_info": {
   "codemirror_mode": {
    "name": "ipython",
    "version": 3
   },
   "file_extension": ".py",
   "mimetype": "text/x-python",
   "name": "python",
   "nbconvert_exporter": "python",
   "pygments_lexer": "ipython3",
   "version": "3.7.6"
  }
 },
 "nbformat": 4,
 "nbformat_minor": 4
}
