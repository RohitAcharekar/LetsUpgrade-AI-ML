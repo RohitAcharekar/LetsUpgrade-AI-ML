{
 "cells": [
  {
   "cell_type": "markdown",
   "metadata": {},
   "source": [
    "# ASSIGNMENT NO 10\n",
    "\n",
    "__Question no: 1__\n",
    "\n",
    "Create an element-wise comparison (greater, greater_equal, less and less_equal) of two given arrays"
   ]
  },
  {
   "cell_type": "code",
   "execution_count": 13,
   "metadata": {},
   "outputs": [
    {
     "name": "stdout",
     "output_type": "stream",
     "text": [
      "[7 8]\n",
      "[9 4]\n",
      "[False  True]\n",
      "[False  True]\n",
      "[ True False]\n",
      "[ True False]\n"
     ]
    }
   ],
   "source": [
    "import numpy as np\n",
    "\n",
    "x = np.array([7,8])\n",
    "y = np.array([9,4])\n",
    "\n",
    "print(x)\n",
    "print(y)\n",
    "\n",
    "print(np.greater(x,y))\n",
    "print(np.greater_equal(x,y))\n",
    "print(np.less(x,y))\n",
    "print(np.less_equal(x,y))"
   ]
  },
  {
   "cell_type": "markdown",
   "metadata": {},
   "source": [
    "__Question no: 2__\n",
    "\n",
    "Write a NumPy program to create an array of 10 zeros,10 ones, 10 fives"
   ]
  },
  {
   "cell_type": "code",
   "execution_count": 29,
   "metadata": {},
   "outputs": [
    {
     "name": "stdout",
     "output_type": "stream",
     "text": [
      "[0. 0. 0. 0. 0. 0. 0. 0. 0. 0.] \n",
      "\n",
      "[1. 1. 1. 1. 1. 1. 1. 1. 1. 1.] \n",
      "\n",
      "[5. 5. 5. 5. 5. 5. 5. 5. 5. 5.] \n",
      "\n"
     ]
    }
   ],
   "source": [
    "\n",
    "x = np.zeros(10)\n",
    "print(x,'\\n')\n",
    "y = np.ones(10)\n",
    "print(y,'\\n')\n",
    "z = np.ones(10)*5\n",
    "print(z,'\\n')\n"
   ]
  },
  {
   "cell_type": "markdown",
   "metadata": {},
   "source": [
    "__Question no: 3__\n",
    "\n",
    "Write a NumPy program to compute sum of all elements, sum of each column and sum of each row of a\n",
    "given array"
   ]
  },
  {
   "cell_type": "code",
   "execution_count": 45,
   "metadata": {},
   "outputs": [
    {
     "name": "stdout",
     "output_type": "stream",
     "text": [
      "[[3 2]\n",
      " [6 5]]\n",
      "Sum of all element of array is:  16\n",
      "Sum of each column is :  [9 7]\n",
      "Sum of each row is:  [ 5 11]\n"
     ]
    }
   ],
   "source": [
    "x = np.array([[3,2],[6,5]])\n",
    "print(x)\n",
    "s = np.sum(x)\n",
    "print(\"Sum of all element of array is: \", s)\n",
    "c = np.sum(x,axis = 0)\n",
    "print(\"Sum of each column is : \" , c)\n",
    "r = np.sum(x,axis = 1)\n",
    "print(\"Sum of each row is: \", r)"
   ]
  },
  {
   "cell_type": "markdown",
   "metadata": {},
   "source": [
    "__Question no:4__\n",
    "\n",
    "Write a NumPy program to add, subtract, multiply, divide arguments element-wise."
   ]
  },
  {
   "cell_type": "code",
   "execution_count": 62,
   "metadata": {},
   "outputs": [
    {
     "name": "stdout",
     "output_type": "stream",
     "text": [
      "Addition is :  4.9\n",
      "Subtraction is:  4.7\n",
      "Multiplication is:  9.36\n",
      "Division is:  2.0\n"
     ]
    }
   ],
   "source": [
    "\n",
    "add = np.add(1.4,3.5)\n",
    "print(\"Addition is : \", add)\n",
    "\n",
    "sub = np.subtract(5.9,1.2)\n",
    "print(\"Subtraction is: \", sub)\n",
    "\n",
    "mul= np.multiply(7.8,1.2)\n",
    "print(\"Multiplication is: \",mul)\n",
    "\n",
    "div = np.divide(4.0,2.0)\n",
    "print(\"Division is: \",div)\n"
   ]
  },
  {
   "cell_type": "markdown",
   "metadata": {},
   "source": [
    "__Question no: 5__\n",
    "\n",
    "Write a NumPy program to compute the trigonometric sine, cosine and tangent array of angles given in\n",
    "degree."
   ]
  },
  {
   "cell_type": "code",
   "execution_count": 24,
   "metadata": {},
   "outputs": [
    {
     "name": "stdout",
     "output_type": "stream",
     "text": [
      "[0.         0.5        0.70710678 0.8660254  1.        ] \n",
      "\n",
      "[1.00000000e+00 8.66025404e-01 7.07106781e-01 5.00000000e-01\n",
      " 6.12323400e-17] \n",
      "\n",
      "[0.00000000e+00 5.77350269e-01 1.00000000e+00 1.73205081e+00\n",
      " 1.63312394e+16] \n",
      "\n"
     ]
    }
   ],
   "source": [
    "import numpy as np\n",
    "angles = np.array((0,30,45,60,90))\n",
    "\n",
    "sine = np.sin(angles*np.pi / 180)\n",
    "print(sine,'\\n')\n",
    "\n",
    "cosine =np.cos(angles*np.pi/180)\n",
    "print(cosine,'\\n')\n",
    "\n",
    "tangent = np.tan(angles*np.pi/180)\n",
    "print(tangent,'\\n')"
   ]
  },
  {
   "cell_type": "markdown",
   "metadata": {},
   "source": [
    "__Question no: 6__\n",
    "\n",
    "Write a Pandas program to create and display a DataFrame from a specified dictionary data which has the\n",
    "index labels"
   ]
  },
  {
   "cell_type": "code",
   "execution_count": 30,
   "metadata": {},
   "outputs": [
    {
     "name": "stdout",
     "output_type": "stream",
     "text": [
      "      name  score  attempts qualify\n",
      "a    Rohit     19         1     yes\n",
      "b     amit     18         2      no\n",
      "c    rahul     17         2     yes\n",
      "d    panda      9         4      no\n",
      "e  shubham     10         3      no\n",
      "f  sanchit     15         1     yes\n"
     ]
    }
   ],
   "source": [
    "import pandas as pd\n",
    "import numpy as np\n",
    "\n",
    "exam_data  = {'name': ['Rohit', 'amit', 'rahul', 'panda', 'shubham', 'sanchit'],\n",
    "        'score': [19,18,17,9,10,15],\n",
    "        'attempts': [1, 2,2,4,3,1],\n",
    "        'qualify': ['yes', 'no', 'yes', 'no', 'no', 'yes']}\n",
    "labels = ['a', 'b', 'c', 'd', 'e', 'f']\n",
    "\n",
    "d = pd.DataFrame(exam_data , index=labels)\n",
    "print(d)"
   ]
  },
  {
   "cell_type": "markdown",
   "metadata": {},
   "source": [
    "__Question no: 7__\n",
    "\n",
    "Write a Pandas program to select the 'name' and 'score' columns from the following DataFrame."
   ]
  },
  {
   "cell_type": "code",
   "execution_count": 31,
   "metadata": {},
   "outputs": [
    {
     "name": "stdout",
     "output_type": "stream",
     "text": [
      "Select specific columns: \n",
      "      name  score\n",
      "a    Rohit     19\n",
      "b     amit     18\n",
      "c    rahul     17\n",
      "d    panda      9\n",
      "e  shubham     10\n",
      "f  sanchit     15\n"
     ]
    }
   ],
   "source": [
    "import pandas as pd\n",
    "import numpy as np\n",
    "\n",
    "exam_data  = {'name': ['Rohit', 'amit', 'rahul', 'panda', 'shubham', 'sanchit'],\n",
    "        'score': [19,18,17,9,10,15],\n",
    "        'attempts': [1, 2,2,4,3,1],\n",
    "        'qualify': ['yes', 'no', 'yes', 'no', 'no', 'yes']}\n",
    "labels = ['a', 'b', 'c', 'd', 'e', 'f']\n",
    "\n",
    "d = pd.DataFrame(exam_data , index=labels)\n",
    "print(\"Select specific columns: \")\n",
    "print(d[['name','score']])"
   ]
  },
  {
   "cell_type": "markdown",
   "metadata": {},
   "source": [
    "__Question no: 8__\n",
    "\n",
    "Write a Pandas program to join the two given dataframes along rows and assign all data."
   ]
  },
  {
   "cell_type": "code",
   "execution_count": 35,
   "metadata": {},
   "outputs": [
    {
     "name": "stdout",
     "output_type": "stream",
     "text": [
      "Original DataFrames:\n",
      "  student_id     name  marks\n",
      "0         S1    Rohit    200\n",
      "1         S2     amit    210\n",
      "2         S3    rahul    190\n",
      "3         S4  shubham    222\n",
      "4         S5  sanchit    199\n",
      "-------------------------------------\n",
      "  student_id    name  marks\n",
      "0         S4   rohan    201\n",
      "1         S5   tejas    200\n",
      "2         S6   suraj    198\n",
      "3         S7  vishal    219\n",
      "4         S8   navin    201\n",
      "\n",
      "Join the said two dataframes along rows:\n",
      "  student_id     name  marks\n",
      "0         S1    Rohit    200\n",
      "1         S2     amit    210\n",
      "2         S3    rahul    190\n",
      "3         S4  shubham    222\n",
      "4         S5  sanchit    199\n",
      "0         S4    rohan    201\n",
      "1         S5    tejas    200\n",
      "2         S6    suraj    198\n",
      "3         S7   vishal    219\n",
      "4         S8    navin    201\n"
     ]
    }
   ],
   "source": [
    "import pandas as pd\n",
    "\n",
    "stud1 = pd.DataFrame({\n",
    "        'student_id': ['S1', 'S2', 'S3', 'S4', 'S5'],\n",
    "         'name': ['Rohit', 'amit', 'rahul', 'shubham', 'sanchit'],\n",
    "        'marks': [200, 210, 190, 222, 199]})\n",
    "\n",
    "stud2 = pd.DataFrame({\n",
    "        'student_id': ['S4', 'S5', 'S6', 'S7', 'S8'],\n",
    "        'name': ['rohan','tejas','suraj','vishal','navin'], \n",
    "        'marks': [201, 200, 198, 219, 201]})\n",
    "\n",
    "print(\"Original DataFrames:\")\n",
    "print(stud1)\n",
    "print(\"-------------------------------------\")\n",
    "print(stud2)\n",
    "print(\"\\nJoin the said two dataframes along rows:\")\n",
    "result_data = pd.concat([stud1, stud2])\n",
    "print(result_data)"
   ]
  },
  {
   "cell_type": "markdown",
   "metadata": {},
   "source": [
    "__Question no: 9__\n",
    "\n",
    "Write a Pandas program to detect missing values of a given DataFrame. Display True or False."
   ]
  },
  {
   "cell_type": "code",
   "execution_count": 36,
   "metadata": {},
   "outputs": [
    {
     "name": "stdout",
     "output_type": "stream",
     "text": [
      "Original Orders DataFrame:\n",
      "     ord_no  purch_amt    ord_date  customer_id  salesman_id\n",
      "0   70001.0     150.50  2012-10-05         3002       5002.0\n",
      "1       NaN     270.65  2012-09-10         3001       5003.0\n",
      "2   70002.0      65.26         NaN         3001       5001.0\n",
      "3   70004.0     110.50  2012-08-17         3003          NaN\n",
      "4       NaN     948.50  2012-09-10         3002       5002.0\n",
      "5   70005.0    2400.60  2012-07-27         3001       5001.0\n",
      "6       NaN    5760.00  2012-09-10         3001       5001.0\n",
      "7   70010.0    1983.43  2012-10-10         3004          NaN\n",
      "8   70003.0    2480.40  2012-10-10         3003       5003.0\n",
      "9   70012.0     250.45  2012-06-27         3002       5002.0\n",
      "10      NaN      75.29  2012-08-17         3001       5003.0\n",
      "11  70013.0    3045.60  2012-04-25         3001          NaN\n",
      "\n",
      "Missing values of the said dataframe:\n",
      "    ord_no  purch_amt  ord_date  customer_id  salesman_id\n",
      "0    False      False     False        False        False\n",
      "1     True      False     False        False        False\n",
      "2    False      False      True        False        False\n",
      "3    False      False     False        False         True\n",
      "4     True      False     False        False        False\n",
      "5    False      False     False        False        False\n",
      "6     True      False     False        False        False\n",
      "7    False      False     False        False         True\n",
      "8    False      False     False        False        False\n",
      "9    False      False     False        False        False\n",
      "10    True      False     False        False        False\n",
      "11   False      False     False        False         True\n"
     ]
    }
   ],
   "source": [
    "import pandas as pd\n",
    "import numpy as np\n",
    "pd.set_option('display.max_rows', None)\n",
    "\n",
    "df = pd.DataFrame({\n",
    "'ord_no':[70001,np.nan,70002,70004,np.nan,70005,np.nan,70010,70003,70012,np.nan,70013],\n",
    "'purch_amt':[150.5,270.65,65.26,110.5,948.5,2400.6,5760,1983.43,2480.4,250.45, 75.29,3045.6],\n",
    "'ord_date': ['2012-10-05','2012-09-10',np.nan,'2012-08-17','2012-09-10','2012-07-27','2012-09-10','2012-10-10','2012-10-10','2012-06-27','2012-08-17','2012-04-25'],\n",
    "'customer_id':[3002,3001,3001,3003,3002,3001,3001,3004,3003,3002,3001,3001],\n",
    "'salesman_id':[5002,5003,5001,np.nan,5002,5001,5001,np.nan,5003,5002,5003,np.nan]})\n",
    "\n",
    "print(\"Original Orders DataFrame:\")\n",
    "print(df)\n",
    "print(\"\\nMissing values of the said dataframe:\")\n",
    "print(df.isna())"
   ]
  },
  {
   "cell_type": "markdown",
   "metadata": {},
   "source": [
    "__Question no: 10__\n",
    "\n",
    "Write a Pandas program to create and display a one-dimensional array-like object containing an array of\n",
    "data."
   ]
  },
  {
   "cell_type": "code",
   "execution_count": 39,
   "metadata": {},
   "outputs": [
    {
     "name": "stdout",
     "output_type": "stream",
     "text": [
      "0    10\n",
      "1    20\n",
      "2    30\n",
      "3    40\n",
      "4    50\n",
      "dtype: int64\n"
     ]
    }
   ],
   "source": [
    "import pandas as pd\n",
    "data = pd.Series([10,20,30,40,50])\n",
    "print(data)"
   ]
  }
 ],
 "metadata": {
  "kernelspec": {
   "display_name": "Python 3",
   "language": "python",
   "name": "python3"
  },
  "language_info": {
   "codemirror_mode": {
    "name": "ipython",
    "version": 3
   },
   "file_extension": ".py",
   "mimetype": "text/x-python",
   "name": "python",
   "nbconvert_exporter": "python",
   "pygments_lexer": "ipython3",
   "version": "3.7.6"
  }
 },
 "nbformat": 4,
 "nbformat_minor": 4
}
